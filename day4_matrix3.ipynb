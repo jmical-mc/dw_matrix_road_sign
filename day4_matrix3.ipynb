{
  "nbformat": 4,
  "nbformat_minor": 0,
  "metadata": {
    "colab": {
      "name": "day4_matrix3.ipynb",
      "provenance": [],
      "collapsed_sections": [],
      "mount_file_id": "1-Pm02NOwQWiyOeaH-M_7NHNrY44pJuwL",
      "authorship_tag": "ABX9TyNF5otyDjUMHur5SbYfLK44",
      "include_colab_link": true
    },
    "kernelspec": {
      "name": "python3",
      "display_name": "Python 3"
    },
    "accelerator": "GPU"
  },
  "cells": [
    {
      "cell_type": "markdown",
      "metadata": {
        "id": "view-in-github",
        "colab_type": "text"
      },
      "source": [
        "<a href=\"https://colab.research.google.com/github/jmical-mc/dw_matrix_road_sign/blob/master/day4_matrix3.ipynb\" target=\"_parent\"><img src=\"https://colab.research.google.com/assets/colab-badge.svg\" alt=\"Open In Colab\"/></a>"
      ]
    },
    {
      "cell_type": "code",
      "metadata": {
        "id": "-gDffDxAZw2I",
        "colab_type": "code",
        "colab": {}
      },
      "source": [
        "import pandas as pd\n",
        "import numpy as np\n",
        "import os\n",
        "import datetime\n",
        "\n",
        "import tensorflow as tf\n",
        "from tensorflow.keras.models import Sequential\n",
        "from tensorflow.keras.layers import Conv2D, MaxPool2D, Dense, Flatten, Dropout\n",
        "from tensorflow.keras.utils import to_categorical\n",
        "\n",
        "%load_ext tensorboard\n",
        "\n",
        "import matplotlib.pyplot as plt\n",
        "from skimage import color, exposure\n",
        "\n",
        "from sklearn.metrics import accuracy_score"
      ],
      "execution_count": 0,
      "outputs": []
    },
    {
      "cell_type": "code",
      "metadata": {
        "id": "NMsFVH13a-iP",
        "colab_type": "code",
        "outputId": "11476eb2-ac28-4019-8f3e-843d0c906453",
        "colab": {
          "base_uri": "https://localhost:8080/",
          "height": 34
        }
      },
      "source": [
        "cd '/content/drive/My Drive/Colab Notebooks/matrix/matrix_three/dw_matrix_road_sign'"
      ],
      "execution_count": 3,
      "outputs": [
        {
          "output_type": "stream",
          "text": [
            "/content/drive/My Drive/Colab Notebooks/matrix/matrix_three/dw_matrix_road_sign\n"
          ],
          "name": "stdout"
        }
      ]
    },
    {
      "cell_type": "code",
      "metadata": {
        "id": "p8VjH4R8bI9B",
        "colab_type": "code",
        "colab": {}
      },
      "source": [
        "train = pd.read_pickle('data/train.p')\n",
        "test = pd.read_pickle('data/test.p')\n",
        "\n",
        "X_train, y_train = train['features'], train['labels']\n",
        "X_test, y_test = test['features'], test['labels']"
      ],
      "execution_count": 0,
      "outputs": []
    },
    {
      "cell_type": "code",
      "metadata": {
        "id": "jBLI7Dvwbjxg",
        "colab_type": "code",
        "outputId": "655ed281-c3ca-440d-bf7e-48ad56c9c1d0",
        "colab": {
          "base_uri": "https://localhost:8080/",
          "height": 34
        }
      },
      "source": [
        "len(np.unique(y_train))"
      ],
      "execution_count": 5,
      "outputs": [
        {
          "output_type": "execute_result",
          "data": {
            "text/plain": [
              "43"
            ]
          },
          "metadata": {
            "tags": []
          },
          "execution_count": 5
        }
      ]
    },
    {
      "cell_type": "code",
      "metadata": {
        "id": "-cdzR5GFeUQo",
        "colab_type": "code",
        "colab": {}
      },
      "source": [
        "if y_train.ndim == 1: y_train = to_categorical(y_train)\n",
        "if y_test.ndim == 1: y_test = to_categorical(y_test)"
      ],
      "execution_count": 0,
      "outputs": []
    },
    {
      "cell_type": "code",
      "metadata": {
        "id": "4Kob_DGJcRYA",
        "colab_type": "code",
        "colab": {}
      },
      "source": [
        "input_shape = X_train.shape[1:]\n",
        "num_classes = y_train.shape[1]"
      ],
      "execution_count": 0,
      "outputs": []
    },
    {
      "cell_type": "code",
      "metadata": {
        "id": "KZRDIWOuRZsp",
        "colab_type": "code",
        "colab": {}
      },
      "source": [
        "def get_cnn_v1(input_shape, num_classes):\n",
        "  return Sequential([\n",
        "    Conv2D(filters=64, kernel_size=(3, 3), activation='relu', input_shape=input_shape),\n",
        "\n",
        "    Flatten(),\n",
        "\n",
        "    Dense(num_classes, activation='softmax')\n",
        "  ])\n",
        "\n",
        "def train_model(model, X_train, y_train, params_fit={}):\n",
        "  model.compile(loss='categorical_crossentropy', optimizer='Adam', metrics=['accuracy'])\n",
        "\n",
        "  logdir = os.path.join('logs', datetime.datetime.now().strftime('%Y%m%d-%H%M%S'))\n",
        "  tensorboard_callback = tf.keras.callbacks.TensorBoard(logdir, histogram_freq=1)\n",
        "\n",
        "  model.fit(\n",
        "      X_train,\n",
        "      y_train,\n",
        "      batch_size = params_fit.get('batch_size', 128),\n",
        "      epochs = params_fit.get('epochs', 5),\n",
        "      verbose = params_fit.get('verbose', 1),\n",
        "      validation_data = params_fit.get('validation_data', (X_train, y_train)),\n",
        "      callbacks = [tensorboard_callback]\n",
        "  )\n",
        "\n",
        "  return model"
      ],
      "execution_count": 0,
      "outputs": []
    },
    {
      "cell_type": "code",
      "metadata": {
        "id": "fO_AkDZNday1",
        "colab_type": "code",
        "outputId": "6b247e37-bfa7-48e6-b355-6338b96e4caf",
        "colab": {
          "base_uri": "https://localhost:8080/",
          "height": 185
        }
      },
      "source": [
        "model = get_cnn_v1(input_shape, num_classes)\n",
        "model_trained = train_model(model, X_train, y_train)"
      ],
      "execution_count": 9,
      "outputs": [
        {
          "output_type": "stream",
          "text": [
            "Epoch 1/5\n",
            "272/272 [==============================] - 3s 12ms/step - loss: 49.3642 - accuracy: 0.7082 - val_loss: 0.2790 - val_accuracy: 0.9319\n",
            "Epoch 2/5\n",
            "272/272 [==============================] - 3s 10ms/step - loss: 0.2228 - accuracy: 0.9453 - val_loss: 0.1441 - val_accuracy: 0.9679\n",
            "Epoch 3/5\n",
            "272/272 [==============================] - 3s 10ms/step - loss: 0.1341 - accuracy: 0.9661 - val_loss: 0.0948 - val_accuracy: 0.9769\n",
            "Epoch 4/5\n",
            "272/272 [==============================] - 3s 11ms/step - loss: 0.0901 - accuracy: 0.9772 - val_loss: 0.0622 - val_accuracy: 0.9859\n",
            "Epoch 5/5\n",
            "272/272 [==============================] - 3s 11ms/step - loss: 0.0770 - accuracy: 0.9821 - val_loss: 0.0494 - val_accuracy: 0.9879\n"
          ],
          "name": "stdout"
        }
      ]
    },
    {
      "cell_type": "code",
      "metadata": {
        "id": "26_2C8G01kst",
        "colab_type": "code",
        "colab": {}
      },
      "source": [
        "df = pd.read_csv('data/signnames.csv')\n",
        "labels_dict = df.to_dict()['b']"
      ],
      "execution_count": 0,
      "outputs": []
    },
    {
      "cell_type": "code",
      "metadata": {
        "id": "Gfr4el-YfeTN",
        "colab_type": "code",
        "colab": {}
      },
      "source": [
        "def predict(model_trained, X_test, y_test, scoring=accuracy_score):\n",
        "\n",
        "  y_test_norm = np.argmax(y_test, axis=1)\n",
        "\n",
        "  y_pred_prob = model_trained.predict(X_test)\n",
        "  y_pred = np.argmax(y_pred_prob, axis=1)\n",
        "\n",
        "  return scoring(y_test_norm, y_pred)"
      ],
      "execution_count": 0,
      "outputs": []
    },
    {
      "cell_type": "code",
      "metadata": {
        "id": "MYqN2KZh04IJ",
        "colab_type": "code",
        "colab": {
          "base_uri": "https://localhost:8080/",
          "height": 34
        },
        "outputId": "3e1140f8-86a1-453e-c563-7dc48627280a"
      },
      "source": [
        "predict(model_trained, X_test, y_test)"
      ],
      "execution_count": 13,
      "outputs": [
        {
          "output_type": "execute_result",
          "data": {
            "text/plain": [
              "0.8308390022675737"
            ]
          },
          "metadata": {
            "tags": []
          },
          "execution_count": 13
        }
      ]
    },
    {
      "cell_type": "code",
      "metadata": {
        "id": "XkSsFrQ0H8Ir",
        "colab_type": "code",
        "colab": {}
      },
      "source": [
        "def train_and_predict(model):\n",
        "  model_trained = train_model(model, X_train, y_train)\n",
        "  return predict(model_trained, X_test, y_test)"
      ],
      "execution_count": 0,
      "outputs": []
    },
    {
      "cell_type": "code",
      "metadata": {
        "id": "hLOgsU4wG_LV",
        "colab_type": "code",
        "colab": {
          "base_uri": "https://localhost:8080/",
          "height": 202
        },
        "outputId": "7512634e-5364-4d39-a7c0-3cc1ae450d05"
      },
      "source": [
        "def get_cnn_v2(input_shape, num_classes):\n",
        "  return Sequential([\n",
        "    Conv2D(filters=32, kernel_size=(3, 3), activation='relu', input_shape=input_shape),\n",
        "    MaxPool2D(),\n",
        "    Dropout(0.3),\n",
        "\n",
        "    Conv2D(filters=64, kernel_size=(3, 3), activation='relu'),\n",
        "    MaxPool2D(),\n",
        "    Dropout(0.3),\n",
        "\n",
        "    Flatten(),\n",
        "\n",
        "    Dense(1024, activation='relu'),\n",
        "    Dropout(0.3),\n",
        "\n",
        "    Dense(num_classes, activation='softmax')\n",
        "  ])\n",
        "\n",
        "train_and_predict(get_cnn_v2(input_shape, num_classes))"
      ],
      "execution_count": 15,
      "outputs": [
        {
          "output_type": "stream",
          "text": [
            "Epoch 1/5\n",
            "272/272 [==============================] - 3s 11ms/step - loss: 5.4167 - accuracy: 0.3319 - val_loss: 1.0938 - val_accuracy: 0.6985\n",
            "Epoch 2/5\n",
            "272/272 [==============================] - 3s 10ms/step - loss: 1.0479 - accuracy: 0.6863 - val_loss: 0.3501 - val_accuracy: 0.9163\n",
            "Epoch 3/5\n",
            "272/272 [==============================] - 3s 11ms/step - loss: 0.5503 - accuracy: 0.8318 - val_loss: 0.1588 - val_accuracy: 0.9595\n",
            "Epoch 4/5\n",
            "272/272 [==============================] - 3s 10ms/step - loss: 0.3690 - accuracy: 0.8878 - val_loss: 0.1109 - val_accuracy: 0.9786\n",
            "Epoch 5/5\n",
            "272/272 [==============================] - 3s 11ms/step - loss: 0.2721 - accuracy: 0.9172 - val_loss: 0.0673 - val_accuracy: 0.9855\n"
          ],
          "name": "stdout"
        },
        {
          "output_type": "execute_result",
          "data": {
            "text/plain": [
              "0.9138321995464853"
            ]
          },
          "metadata": {
            "tags": []
          },
          "execution_count": 15
        }
      ]
    },
    {
      "cell_type": "code",
      "metadata": {
        "id": "oAR_J4odIp5p",
        "colab_type": "code",
        "colab": {
          "base_uri": "https://localhost:8080/",
          "height": 202
        },
        "outputId": "0158df34-14b3-472a-8368-0f0c2f1d35db"
      },
      "source": [
        "def get_cnn_v3(input_shape, num_classes):\n",
        "  return Sequential([\n",
        "    Conv2D(filters=32, kernel_size=(3, 3), activation='relu', input_shape=input_shape),\n",
        "    Conv2D(filters=32, kernel_size=(3, 3), activation='relu'),\n",
        "    MaxPool2D(),\n",
        "    Dropout(0.3),\n",
        "\n",
        "    Conv2D(filters=64, kernel_size=(3, 3), activation='relu'),\n",
        "    Conv2D(filters=64, kernel_size=(3, 3), activation='relu'),\n",
        "    MaxPool2D(),\n",
        "    Dropout(0.3),\n",
        "\n",
        "    Flatten(),\n",
        "\n",
        "    Dense(1024, activation='relu'),\n",
        "    Dropout(0.3),\n",
        "\n",
        "    Dense(num_classes, activation='softmax')\n",
        "  ])\n",
        "\n",
        "train_and_predict(get_cnn_v3(input_shape, num_classes))"
      ],
      "execution_count": 16,
      "outputs": [
        {
          "output_type": "stream",
          "text": [
            "Epoch 1/5\n",
            "272/272 [==============================] - 4s 14ms/step - loss: 1.6732 - accuracy: 0.6230 - val_loss: 0.2066 - val_accuracy: 0.9545\n",
            "Epoch 2/5\n",
            "272/272 [==============================] - 3s 13ms/step - loss: 0.3460 - accuracy: 0.9003 - val_loss: 0.0810 - val_accuracy: 0.9823\n",
            "Epoch 3/5\n",
            "272/272 [==============================] - 4s 13ms/step - loss: 0.1927 - accuracy: 0.9443 - val_loss: 0.0459 - val_accuracy: 0.9907\n",
            "Epoch 4/5\n",
            "272/272 [==============================] - 4s 13ms/step - loss: 0.1351 - accuracy: 0.9605 - val_loss: 0.0258 - val_accuracy: 0.9940\n",
            "Epoch 5/5\n",
            "272/272 [==============================] - 4s 13ms/step - loss: 0.1073 - accuracy: 0.9691 - val_loss: 0.0152 - val_accuracy: 0.9961\n"
          ],
          "name": "stdout"
        },
        {
          "output_type": "execute_result",
          "data": {
            "text/plain": [
              "0.971655328798186"
            ]
          },
          "metadata": {
            "tags": []
          },
          "execution_count": 16
        }
      ]
    },
    {
      "cell_type": "code",
      "metadata": {
        "id": "TFC40yREJUEP",
        "colab_type": "code",
        "colab": {
          "base_uri": "https://localhost:8080/",
          "height": 202
        },
        "outputId": "ce3f5306-bf21-4e5d-8338-097d7b044c7f"
      },
      "source": [
        "def get_cnn_v4(input_shape, num_classes):\n",
        "  return Sequential([\n",
        "    Conv2D(filters=32, kernel_size=(3, 3), activation='relu', input_shape=input_shape),\n",
        "    Conv2D(filters=32, kernel_size=(3, 3), activation='relu', padding='same'),\n",
        "    MaxPool2D(),\n",
        "    Dropout(0.3),\n",
        "\n",
        "    Conv2D(filters=64, kernel_size=(3, 3), activation='relu', padding='same'),\n",
        "    Conv2D(filters=64, kernel_size=(3, 3), activation='relu'),\n",
        "    MaxPool2D(),\n",
        "    Dropout(0.3),\n",
        "\n",
        "    Conv2D(filters=64, kernel_size=(3, 3), activation='relu', padding='same'),\n",
        "    Conv2D(filters=64, kernel_size=(3, 3), activation='relu'),\n",
        "    MaxPool2D(),\n",
        "    Dropout(0.3),\n",
        "\n",
        "    Flatten(),\n",
        "\n",
        "    Dense(1024, activation='relu'),\n",
        "    Dropout(0.3),\n",
        "\n",
        "    Dense(num_classes, activation='softmax')\n",
        "  ])\n",
        "\n",
        "train_and_predict(get_cnn_v4(input_shape, num_classes))"
      ],
      "execution_count": 17,
      "outputs": [
        {
          "output_type": "stream",
          "text": [
            "Epoch 1/5\n",
            "272/272 [==============================] - 4s 15ms/step - loss: 2.5444 - accuracy: 0.3212 - val_loss: 0.9136 - val_accuracy: 0.7478\n",
            "Epoch 2/5\n",
            "272/272 [==============================] - 4s 14ms/step - loss: 0.8098 - accuracy: 0.7501 - val_loss: 0.2079 - val_accuracy: 0.9423\n",
            "Epoch 3/5\n",
            "272/272 [==============================] - 4s 14ms/step - loss: 0.3822 - accuracy: 0.8838 - val_loss: 0.0920 - val_accuracy: 0.9724\n",
            "Epoch 4/5\n",
            "272/272 [==============================] - 4s 14ms/step - loss: 0.2410 - accuracy: 0.9291 - val_loss: 0.0704 - val_accuracy: 0.9809\n",
            "Epoch 5/5\n",
            "272/272 [==============================] - 4s 14ms/step - loss: 0.1779 - accuracy: 0.9459 - val_loss: 0.0521 - val_accuracy: 0.9858\n"
          ],
          "name": "stdout"
        },
        {
          "output_type": "execute_result",
          "data": {
            "text/plain": [
              "0.9517006802721089"
            ]
          },
          "metadata": {
            "tags": []
          },
          "execution_count": 17
        }
      ]
    },
    {
      "cell_type": "code",
      "metadata": {
        "id": "Iw3HHS9pK6rY",
        "colab_type": "code",
        "colab": {
          "base_uri": "https://localhost:8080/",
          "height": 202
        },
        "outputId": "e5864604-b408-49ea-b88f-66b98613c940"
      },
      "source": [
        "def get_cnn_v5(input_shape, num_classes):\n",
        "  return Sequential([\n",
        "    Conv2D(filters=32, kernel_size=(3, 3), activation='relu', input_shape=input_shape),\n",
        "    Conv2D(filters=32, kernel_size=(3, 3), activation='relu', padding='same'),\n",
        "    MaxPool2D(),\n",
        "    Dropout(0.3),\n",
        "\n",
        "    Conv2D(filters=64, kernel_size=(3, 3), activation='relu', padding='same'),\n",
        "    Conv2D(filters=64, kernel_size=(3, 3), activation='relu'),\n",
        "    MaxPool2D(),\n",
        "    Dropout(0.3),\n",
        "\n",
        "    Conv2D(filters=64, kernel_size=(3, 3), activation='relu', padding='same'),\n",
        "    Conv2D(filters=64, kernel_size=(3, 3), activation='relu'),\n",
        "    MaxPool2D(),\n",
        "    Dropout(0.3),\n",
        "\n",
        "    Flatten(),\n",
        "\n",
        "    Dense(1024, activation='relu'),\n",
        "    Dropout(0.3),\n",
        "\n",
        "    Dense(1024, activation='relu'),\n",
        "    Dropout(0.3),\n",
        "\n",
        "    Dense(num_classes, activation='softmax')\n",
        "  ])\n",
        "\n",
        "train_and_predict(get_cnn_v5(input_shape, num_classes))"
      ],
      "execution_count": 18,
      "outputs": [
        {
          "output_type": "stream",
          "text": [
            "Epoch 1/5\n",
            "272/272 [==============================] - 4s 16ms/step - loss: 2.9114 - accuracy: 0.2280 - val_loss: 1.3284 - val_accuracy: 0.5648\n",
            "Epoch 2/5\n",
            "272/272 [==============================] - 4s 15ms/step - loss: 1.0496 - accuracy: 0.6634 - val_loss: 0.3629 - val_accuracy: 0.9054\n",
            "Epoch 3/5\n",
            "272/272 [==============================] - 4s 15ms/step - loss: 0.4427 - accuracy: 0.8606 - val_loss: 0.1212 - val_accuracy: 0.9673\n",
            "Epoch 4/5\n",
            "272/272 [==============================] - 4s 15ms/step - loss: 0.2573 - accuracy: 0.9219 - val_loss: 0.0564 - val_accuracy: 0.9826\n",
            "Epoch 5/5\n",
            "272/272 [==============================] - 4s 15ms/step - loss: 0.1979 - accuracy: 0.9410 - val_loss: 0.0428 - val_accuracy: 0.9878\n"
          ],
          "name": "stdout"
        },
        {
          "output_type": "execute_result",
          "data": {
            "text/plain": [
              "0.9678004535147392"
            ]
          },
          "metadata": {
            "tags": []
          },
          "execution_count": 18
        }
      ]
    },
    {
      "cell_type": "code",
      "metadata": {
        "id": "QFSN5EK8LL9Q",
        "colab_type": "code",
        "colab": {}
      },
      "source": [
        "X_train_gray = color.rgb2gray(X_train).reshape(-1, 32, 32, 1)\n",
        "X_test_gray = color.rgb2gray(X_test).reshape(-1, 32, 32, 1)"
      ],
      "execution_count": 0,
      "outputs": []
    },
    {
      "cell_type": "code",
      "metadata": {
        "id": "aQP1eTEPMP7N",
        "colab_type": "code",
        "colab": {
          "base_uri": "https://localhost:8080/",
          "height": 202
        },
        "outputId": "c492149c-b5d6-4112-9e07-03f9a2f7a180"
      },
      "source": [
        "model = get_cnn_v5((32,32,1), num_classes)\n",
        "model_trained = train_model(model, X_train_gray, y_train)\n",
        "predict(model_trained, X_test_gray, y_test)"
      ],
      "execution_count": 31,
      "outputs": [
        {
          "output_type": "stream",
          "text": [
            "Epoch 1/5\n",
            "272/272 [==============================] - 4s 16ms/step - loss: 2.7431 - accuracy: 0.2433 - val_loss: 0.6509 - val_accuracy: 0.8008\n",
            "Epoch 2/5\n",
            "272/272 [==============================] - 4s 15ms/step - loss: 0.5279 - accuracy: 0.8317 - val_loss: 0.1456 - val_accuracy: 0.9533\n",
            "Epoch 3/5\n",
            "272/272 [==============================] - 4s 15ms/step - loss: 0.2367 - accuracy: 0.9264 - val_loss: 0.0547 - val_accuracy: 0.9840\n",
            "Epoch 4/5\n",
            "272/272 [==============================] - 4s 15ms/step - loss: 0.1608 - accuracy: 0.9489 - val_loss: 0.0398 - val_accuracy: 0.9900\n",
            "Epoch 5/5\n",
            "272/272 [==============================] - 4s 15ms/step - loss: 0.1226 - accuracy: 0.9620 - val_loss: 0.0240 - val_accuracy: 0.9935\n"
          ],
          "name": "stdout"
        },
        {
          "output_type": "execute_result",
          "data": {
            "text/plain": [
              "0.9673469387755103"
            ]
          },
          "metadata": {
            "tags": []
          },
          "execution_count": 31
        }
      ]
    }
  ]
}